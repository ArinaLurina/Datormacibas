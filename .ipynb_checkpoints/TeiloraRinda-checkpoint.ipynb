{
 "cells": [
  {
   "cell_type": "markdown",
   "metadata": {},
   "source": [
    "Lab. darbs 1. Teilora rindas"
   ]
  },
  {
   "cell_type": "markdown",
   "metadata": {},
   "source": [
    "Ierakstīt savu funkciju\n"
   ]
  },
  {
   "cell_type": "code",
   "execution_count": 8,
   "metadata": {},
   "outputs": [],
   "source": [
    "# -*- coding: utf-8 -*-\n",
    "from math import cos"
   ]
  },
  {
   "cell_type": "markdown",
   "metadata": {},
   "source": [
    "Aprēķināt rekurences reizinātāju. "
   ]
  },
  {
   "cell_type": "markdown",
   "metadata": {},
   "source": [
    "Aprēķināt katru nākamo virknes locekli \"a\""
   ]
  },
  {
   "cell_type": "markdown",
   "metadata": {},
   "source": [
    "Atrast visus iespējāmos \"k\" <500"
   ]
  },
  {
   "cell_type": "markdown",
   "metadata": {},
   "source": [
    "Atrast summu \"S\""
   ]
  },
  {
   "cell_type": "code",
   "execution_count": 9,
   "metadata": {},
   "outputs": [],
   "source": [
    "def mans_kosinuss(x):\n",
    "    k = 0\n",
    "    a = x**0/(1)\n",
    "    S = a\n",
    "    print(\"Izdruka no liet.f. a0 = %6.2f S0 = %6.2f\"%(a,S))\n",
    "    \n",
    "    while k < 500:\n",
    "        k = k + 1\n",
    "        R = x*x/((2*k-1)*(2*k)*4)\n",
    "        a = a * R\n",
    "        S = S + a\n",
    "        if k == 499:\n",
    "            print(\"Izdruka no liet.f. a%d = %6.2f S%d = %6.2f\"%(k,a,k,S))\n",
    "    \n",
    "    S = S + a\n",
    "    print(\"Izdruka no liet.f. a500 = %6.2f S500 = %6.2f\"%(a,S))\n",
    "    return S"
   ]
  },
  {
   "cell_type": "markdown",
   "metadata": {},
   "source": [
    "Aprēķināt \"x\""
   ]
  },
  {
   "cell_type": "markdown",
   "metadata": {},
   "source": [
    " Noteikt \"x\", lai katru reizi tas rakstītos \"float\" veidā"
   ]
  },
  {
   "cell_type": "markdown",
   "metadata": {},
   "source": []
  },
  {
   "cell_type": "code",
   "execution_count": 10,
   "metadata": {},
   "outputs": [
    {
     "name": "stdout",
     "output_type": "stream",
     "text": [
      "Lietotāj, lūdzu, ievadi argumentu (x): 10\n",
      "standarta cos(10.00) =  -0.84\n",
      "Izdruka no liet.f. a0 =   1.00 S0 =   1.00\n",
      "Izdruka no liet.f. a499 =   0.00 S499 =  74.21\n",
      "Izdruka no liet.f. a500 =   0.00 S500 =  74.21\n",
      "mans cos(10.00) =  74.21\n"
     ]
    }
   ],
   "source": [
    "x = float(input(\"Lietotāj, lūdzu, ievadi argumentu (x): \"))\n",
    "y = cos(x)\n",
    "print(\"standarta cos(%.2f) = %6.2f\"%(x,y))\n",
    "\n",
    "\n",
    "yy = mans_kosinuss(x)\n",
    "m = u\"\\u221E\"\n",
    "print(\"mans cos(%.2f) = %6.2f\"%(x,yy))"
   ]
  },
  {
   "cell_type": "markdown",
   "metadata": {},
   "source": [
    "Uzzīmēt summas zīmi."
   ]
  },
  {
   "cell_type": "markdown",
   "metadata": {},
   "source": [
    "Pārnest funkciju pēc summas zīmes."
   ]
  },
  {
   "cell_type": "markdown",
   "metadata": {},
   "source": [
    "Uzrakstīt rekurences reizinātāja formulu."
   ]
  },
  {
   "cell_type": "code",
   "execution_count": 7,
   "metadata": {},
   "outputs": [
    {
     "name": "stdout",
     "output_type": "stream",
     "text": [
      "    500                                            \n",
      "   _____                                           \n",
      "   \\                                               \n",
      "    \\         x**2*k                               \n",
      "     >   _________________, kur -∞<x<∞\n",
      "    /                                              \n",
      "   /      (2*k)! * 2**2*k                          \n",
      "  ______                                           \n",
      "     k = 0                                         \n",
      "                             x*x       \n",
      " rekurences reizinatajs:  ____________ \n",
      "                                       \n",
      "                         (2k-1)(2k)*4  \n"
     ]
    }
   ],
   "source": [
    "\n",
    "print(\"    500                                            \")\n",
    "print(\"   _____                                           \")\n",
    "print(\"   \\                                               \")\n",
    "print(\"    \\         x**2*k                               \")\n",
    "print(\"     >   _________________, kur -%s<x<%s\"%(m,m))   \n",
    "print(\"    /                                              \")\n",
    "print(\"   /      (2*k)! * 2**2*k                          \")\n",
    "print(\"  ______                                           \")\n",
    "print(\"     k = 0                                         \")\n",
    "\n",
    "\n",
    "print(\"                             x*x       \")\n",
    "print(\" rekurences reizinatajs:  ____________ \")\n",
    "print(\"                                       \")\n",
    "print(\"                         (2k-1)(2k)*4  \")\n"
   ]
  },
  {
   "cell_type": "markdown",
   "metadata": {},
   "source": [
    "Uzzīmēt funkcijas zīmējumu."
   ]
  }
 ],
 "metadata": {
  "kernelspec": {
   "display_name": "Python 3",
   "language": "python",
   "name": "python3"
  },
  "language_info": {
   "codemirror_mode": {
    "name": "ipython",
    "version": 3
   },
   "file_extension": ".py",
   "mimetype": "text/x-python",
   "name": "python",
   "nbconvert_exporter": "python",
   "pygments_lexer": "ipython3",
   "version": "3.6.4"
  }
 },
 "nbformat": 4,
 "nbformat_minor": 2
}
