{
 "cells": [
  {
   "cell_type": "code",
   "execution_count": 1,
   "metadata": {},
   "outputs": [
    {
     "name": "stdout",
     "output_type": "stream",
     "text": [
      "Dotajaa intervaalaa [-100, 100] saknju nav\n",
      "Sakne ir: 99.99990463256836\n",
      "Iteraciju skaits: 21\n"
     ]
    }
   ],
   "source": [
    "from math import fabs\n",
    "from time import sleep\n",
    "from numpy.ma import cosh\n",
    "\n",
    "\n",
    "def f(x):\n",
    "    return cosh(x / 2)\n",
    "k=0\n",
    "# Definejam argumenta x robezhas:\n",
    "a = -100\n",
    "b = 100\n",
    "\n",
    "# Aprekjinam funkcijas vertibas dotajos punktos:\n",
    "funa = f(a)\n",
    "funb = f(b)\n",
    "\n",
    "# Paarbaudam, vai dotajaa intervaalaa ir saknes:\n",
    "\n",
    "if (funa*funb>0):\n",
    "    print(\"Dotajaa intervaalaa [%s, %s] saknju nav\" % (a, b))\n",
    "    sleep(1);exit()\n",
    "    exit()\n",
    "\n",
    "# Zinjo uz ekraana, gaida 3 sec un darbu pabeidz\n",
    "\n",
    "else:\n",
    "    print(\"Dotajaa intervaalaa sakne(s) ir!\")\n",
    "\n",
    "# Defineejam precizitaati, ar kaadu mekleesim sakni:\n",
    "\n",
    "deltax = 0.0001\n",
    "\n",
    "# Sashaurinam saknes mekleeshanas robezhas :\n",
    "\n",
    "while fabs(b - a) > deltax:\n",
    "    k=k+1\n",
    "    x = (a + b) / 2\n",
    "    funx = f(x)\n",
    "    if (funa * funx < 0.0):\n",
    "        b = x\n",
    "    else:\n",
    "        a = x\n",
    "\n",
    "print(\"Sakne ir:\", x)\n",
    "print(\"Iteraciju skaits:\", k)\n",
    "\n"
   ]
  },
  {
   "cell_type": "code",
   "execution_count": null,
   "metadata": {},
   "outputs": [],
   "source": []
  }
 ],
 "metadata": {
  "kernelspec": {
   "display_name": "Python 3",
   "language": "python",
   "name": "python3"
  },
  "language_info": {
   "codemirror_mode": {
    "name": "ipython",
    "version": 3
   },
   "file_extension": ".py",
   "mimetype": "text/x-python",
   "name": "python",
   "nbconvert_exporter": "python",
   "pygments_lexer": "ipython3",
   "version": "3.6.7"
  }
 },
 "nbformat": 4,
 "nbformat_minor": 2
}
